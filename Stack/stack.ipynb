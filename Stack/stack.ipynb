{
 "cells": [
  {
   "cell_type": "code",
   "execution_count": 4,
   "metadata": {},
   "outputs": [],
   "source": [
    "class Stack:\n",
    "    def __init__(self):\n",
    "        self.vals = []\n",
    "        self.top = -1\n",
    "        self.length = 0\n",
    "    \n",
    "    def push(self, val):\n",
    "        self.vals.append(val)\n",
    "        self.top += 1\n",
    "    \n",
    "    def pop(self):\n",
    "        if self.top == -1:\n",
    "            print('Stack is already empty')\n",
    "        self.vals = self.vals[:-1]\n",
    "        self.top -= 1\n",
    "    \n",
    "    def get_top(self):\n",
    "        if self.top != -1:\n",
    "            return self.vals[self.top]\n",
    "        else:\n",
    "            return None\n",
    "    \n",
    "    def isEmpty(self):\n",
    "        if self.top != -1:\n",
    "            return False\n",
    "        return True\n",
    "    \n",
    "    def __str__(self):\n",
    "        l = [str(i) for i in self.vals]\n",
    "        return \" \".join(l)\n",
    "    \n",
    "    def __len__(self):\n",
    "        return self.top + 1"
   ]
  },
  {
   "cell_type": "code",
   "execution_count": 5,
   "metadata": {},
   "outputs": [
    {
     "name": "stdout",
     "output_type": "stream",
     "text": [
      "1 2 3\n"
     ]
    }
   ],
   "source": [
    "st = Stack()\n",
    "\n",
    "st.push(1)\n",
    "st.push(2)\n",
    "st.push(3)\n",
    "print(st)"
   ]
  },
  {
   "cell_type": "code",
   "execution_count": 6,
   "metadata": {},
   "outputs": [
    {
     "name": "stdout",
     "output_type": "stream",
     "text": [
      "1 2\n"
     ]
    }
   ],
   "source": [
    "st.pop()\n",
    "print(st)"
   ]
  },
  {
   "cell_type": "code",
   "execution_count": 7,
   "metadata": {},
   "outputs": [
    {
     "data": {
      "text/plain": [
       "2"
      ]
     },
     "execution_count": 7,
     "metadata": {},
     "output_type": "execute_result"
    }
   ],
   "source": [
    "len(st)"
   ]
  }
 ],
 "metadata": {
  "kernelspec": {
   "display_name": "venv",
   "language": "python",
   "name": "python3"
  },
  "language_info": {
   "codemirror_mode": {
    "name": "ipython",
    "version": 3
   },
   "file_extension": ".py",
   "mimetype": "text/x-python",
   "name": "python",
   "nbconvert_exporter": "python",
   "pygments_lexer": "ipython3",
   "version": "3.10.15"
  }
 },
 "nbformat": 4,
 "nbformat_minor": 2
}
