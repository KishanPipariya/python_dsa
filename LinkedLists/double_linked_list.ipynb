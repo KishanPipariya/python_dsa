{
 "cells": [
  {
   "cell_type": "code",
   "execution_count": 86,
   "metadata": {},
   "outputs": [],
   "source": [
    "class Node:\n",
    "    def __init__(self, val):\n",
    "        self.val = val\n",
    "        self.prev = None\n",
    "        self.next = None\n",
    "    \n",
    "    def get_val(self):\n",
    "        return self.val\n",
    "    \n",
    "    def set_val(self, val):\n",
    "        self.val = val\n",
    "    \n",
    "    def set_next(self, node):\n",
    "        self.next = node\n",
    "    \n",
    "    def get_next(self):\n",
    "        return self.next\n",
    "    \n",
    "    def set_prev(self, node):\n",
    "        self.prev = node\n",
    "    \n",
    "    def get_prev(self):\n",
    "        return self.prev\n",
    "    \n",
    "    def __str__(self):\n",
    "        return str(self.val)\n",
    "    \n"
   ]
  },
  {
   "cell_type": "code",
   "execution_count": 87,
   "metadata": {},
   "outputs": [],
   "source": [
    "class LinkedList:\n",
    "    def __init__(self, val):\n",
    "        self.head = Node(val)\n",
    "        self.tail = self.head\n",
    "        self.length = 1\n",
    "    \n",
    "    def get_length(self):\n",
    "        l = 0\n",
    "        t = self.head\n",
    "        while t != None:\n",
    "            t = t.next\n",
    "            l = l + 1\n",
    "        return l\n",
    "    \n",
    "    def insertEnd(self, val):\n",
    "        t = Node(val)\n",
    "        t.set_prev(self.tail)\n",
    "        self.tail.set_next(t)\n",
    "        self.tail = t\n",
    "        self.length += 1\n",
    "    \n",
    "    def insertBegin(self, val):\n",
    "        t = Node(val)\n",
    "        t.set_next(self.head)\n",
    "        self.head.set_prev(t)\n",
    "        self.head = t\n",
    "        self.length += 1\n",
    "    \n",
    "    def insert(self, val, pos:int):\n",
    "        if pos==0:\n",
    "            self.insertBegin(val)\n",
    "        elif pos>=self.length-1:\n",
    "            self.insertEnd(val)\n",
    "        else:\n",
    "            k = 1\n",
    "            t = self.head\n",
    "            while k<pos:\n",
    "                t = t.get_next()\n",
    "                k += 1\n",
    "            \n",
    "            t1 = t.get_next()\n",
    "            t2 = Node(val)\n",
    "            t2.set_prev(t)\n",
    "            t2.set_next(t1)\n",
    "            t1.set_prev(t2)\n",
    "            t.set_next(t2)\n",
    "            self.length += 1\n",
    "\n",
    "            \n",
    "    \n",
    "    def __str__(self):\n",
    "        l = []\n",
    "        t = self.head\n",
    "        while t != None:\n",
    "            l.append(str(t.get_val()))\n",
    "            t = t.get_next()\n",
    "        \n",
    "        return \"<->\".join(l)\n",
    "\n",
    "\n",
    "    "
   ]
  },
  {
   "cell_type": "code",
   "execution_count": 88,
   "metadata": {},
   "outputs": [
    {
     "data": {
      "text/plain": [
       "4"
      ]
     },
     "execution_count": 88,
     "metadata": {},
     "output_type": "execute_result"
    }
   ],
   "source": [
    "li = LinkedList(3)\n",
    "li.insertEnd(4)\n",
    "li.insertEnd(5)\n",
    "li.insertEnd(6)\n",
    "li.get_length()"
   ]
  },
  {
   "cell_type": "code",
   "execution_count": 89,
   "metadata": {},
   "outputs": [
    {
     "name": "stdout",
     "output_type": "stream",
     "text": [
      "3<->4<->5<->6\n"
     ]
    }
   ],
   "source": [
    "print(li)"
   ]
  },
  {
   "cell_type": "code",
   "execution_count": 90,
   "metadata": {},
   "outputs": [
    {
     "name": "stdout",
     "output_type": "stream",
     "text": [
      "4\n"
     ]
    }
   ],
   "source": [
    "t = li.head\n",
    "t1 = t.get_next()\n",
    "t2 = t1.get_next()\n",
    "print(t2.prev)"
   ]
  },
  {
   "cell_type": "code",
   "execution_count": 91,
   "metadata": {},
   "outputs": [
    {
     "name": "stdout",
     "output_type": "stream",
     "text": [
      "2<->3<->4<->5<->6\n"
     ]
    }
   ],
   "source": [
    "li.insertBegin(2)\n",
    "print(li)"
   ]
  },
  {
   "cell_type": "code",
   "execution_count": 92,
   "metadata": {},
   "outputs": [
    {
     "name": "stdout",
     "output_type": "stream",
     "text": [
      "2\n"
     ]
    }
   ],
   "source": [
    "t = li.head\n",
    "t1 = t.get_next()\n",
    "print(t1.get_prev())"
   ]
  },
  {
   "cell_type": "code",
   "execution_count": 93,
   "metadata": {},
   "outputs": [
    {
     "name": "stdout",
     "output_type": "stream",
     "text": [
      "6\n"
     ]
    }
   ],
   "source": [
    "print(li.tail)"
   ]
  },
  {
   "cell_type": "code",
   "execution_count": 94,
   "metadata": {},
   "outputs": [
    {
     "name": "stdout",
     "output_type": "stream",
     "text": [
      "6\n",
      "5\n",
      "4\n",
      "10\n",
      "3\n",
      "2\n"
     ]
    }
   ],
   "source": [
    "li.insert(10, 2)\n",
    "t = li.tail\n",
    "while t!= None:\n",
    "    print(t)\n",
    "    t = t.prev"
   ]
  }
 ],
 "metadata": {
  "kernelspec": {
   "display_name": "venv",
   "language": "python",
   "name": "python3"
  },
  "language_info": {
   "codemirror_mode": {
    "name": "ipython",
    "version": 3
   },
   "file_extension": ".py",
   "mimetype": "text/x-python",
   "name": "python",
   "nbconvert_exporter": "python",
   "pygments_lexer": "ipython3",
   "version": "3.10.15"
  }
 },
 "nbformat": 4,
 "nbformat_minor": 2
}
