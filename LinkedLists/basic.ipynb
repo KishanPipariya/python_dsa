{
 "cells": [
  {
   "cell_type": "code",
   "execution_count": 2,
   "metadata": {},
   "outputs": [],
   "source": [
    "class Node:\n",
    "    def __init__(self, val):\n",
    "        self.val = val\n",
    "        self.next = None\n",
    "    \n",
    "    def get_val(self):\n",
    "        return self.val\n",
    "    \n",
    "    def set_val(self, val):\n",
    "        self.val = val\n",
    "    \n",
    "    def set_next(self, node):\n",
    "        self.next = node\n",
    "    \n",
    "    def get_next(self):\n",
    "        return self.next\n",
    "    \n"
   ]
  },
  {
   "cell_type": "code",
   "execution_count": 3,
   "metadata": {},
   "outputs": [],
   "source": [
    "class LinkedList:\n",
    "    def __init__(self, val):\n",
    "        self.head = Node(val)\n",
    "        self.tail = self.head\n",
    "        self.length = 1\n",
    "    \n",
    "    def get_length(self):\n",
    "        l = 0\n",
    "        t = self.head\n",
    "        while t != None:\n",
    "            t = t.next\n",
    "            l = l + 1\n",
    "        return l\n",
    "    \n",
    "    def insertEnd(self, val):\n",
    "        t = Node(val)\n",
    "        self.tail.set_next(t)\n",
    "        self.tail = t\n",
    "        self.length += 1\n",
    "    \n",
    "    def insertBegin(self, val):\n",
    "        t = Node(val)\n",
    "        t.set_next(self.head)\n",
    "        self.head = t\n",
    "        self.length += 1\n",
    "    \n",
    "    def insert(self, val, pos:int):\n",
    "        if pos==0:\n",
    "            self.insertBegin(val)\n",
    "        elif pos>=self.length-1:\n",
    "            self.insertEnd(val)\n",
    "        else:\n",
    "            k = 1\n",
    "            t = self.head\n",
    "            while k<pos:\n",
    "                t = t.get_next()\n",
    "                k += 1\n",
    "            \n",
    "            t1 = t.get_next()\n",
    "            t2 = Node(val)\n",
    "            t2.set_next(t1)\n",
    "            t.set_next(t2)\n",
    "            self.length += 1\n",
    "\n",
    "            \n",
    "    \n",
    "    def __str__(self):\n",
    "        l = []\n",
    "        t = self.head\n",
    "        while t != None:\n",
    "            l.append(str(t.get_val()))\n",
    "            t = t.get_next()\n",
    "        \n",
    "        return \"->\".join(l)\n",
    "\n",
    "\n",
    "    "
   ]
  },
  {
   "cell_type": "code",
   "execution_count": 4,
   "metadata": {},
   "outputs": [
    {
     "data": {
      "text/plain": [
       "1"
      ]
     },
     "execution_count": 4,
     "metadata": {},
     "output_type": "execute_result"
    }
   ],
   "source": [
    "a = Node(1)\n",
    "a.get_val()"
   ]
  },
  {
   "cell_type": "code",
   "execution_count": 5,
   "metadata": {},
   "outputs": [
    {
     "data": {
      "text/plain": [
       "3"
      ]
     },
     "execution_count": 5,
     "metadata": {},
     "output_type": "execute_result"
    }
   ],
   "source": [
    "a.set_val(3)\n",
    "a.get_val()"
   ]
  },
  {
   "cell_type": "code",
   "execution_count": 6,
   "metadata": {},
   "outputs": [
    {
     "data": {
      "text/plain": [
       "4"
      ]
     },
     "execution_count": 6,
     "metadata": {},
     "output_type": "execute_result"
    }
   ],
   "source": [
    "li = LinkedList(3)\n",
    "li.insertEnd(4)\n",
    "li.insertEnd(5)\n",
    "li.insertEnd(6)\n",
    "li.get_length()"
   ]
  },
  {
   "cell_type": "code",
   "execution_count": 7,
   "metadata": {},
   "outputs": [
    {
     "name": "stdout",
     "output_type": "stream",
     "text": [
      "3->4->5->6\n"
     ]
    }
   ],
   "source": [
    "print(li)"
   ]
  },
  {
   "cell_type": "code",
   "execution_count": 8,
   "metadata": {},
   "outputs": [
    {
     "name": "stdout",
     "output_type": "stream",
     "text": [
      "3->4->9->5->6\n"
     ]
    }
   ],
   "source": [
    "li.insert(9, 2)\n",
    "print(li)"
   ]
  }
 ],
 "metadata": {
  "kernelspec": {
   "display_name": "venv",
   "language": "python",
   "name": "python3"
  },
  "language_info": {
   "codemirror_mode": {
    "name": "ipython",
    "version": 3
   },
   "file_extension": ".py",
   "mimetype": "text/x-python",
   "name": "python",
   "nbconvert_exporter": "python",
   "pygments_lexer": "ipython3",
   "version": "3.10.15"
  }
 },
 "nbformat": 4,
 "nbformat_minor": 2
}
