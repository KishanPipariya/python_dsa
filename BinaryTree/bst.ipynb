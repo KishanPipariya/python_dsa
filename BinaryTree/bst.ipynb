{
 "cells": [
  {
   "cell_type": "code",
   "execution_count": 1,
   "metadata": {},
   "outputs": [],
   "source": [
    "class Node:\n",
    "    \n",
    "    def __init__(self, val):\n",
    "        self.val = val\n",
    "        self.left = None\n",
    "        self.right = None\n",
    "\n",
    "    @property\n",
    "    def right(self):\n",
    "        return self.right\n",
    "    \n",
    "    @right.setter\n",
    "    def right(self, right):\n",
    "        self.right = right\n",
    "    \n",
    "    @property\n",
    "    def left(self):\n",
    "        return self.left\n",
    "    \n",
    "    @left.setter\n",
    "    def left(self, left):\n",
    "        self.left = left\n",
    "    \n",
    "    \n"
   ]
  }
 ],
 "metadata": {
  "kernelspec": {
   "display_name": "venv",
   "language": "python",
   "name": "python3"
  },
  "language_info": {
   "codemirror_mode": {
    "name": "ipython",
    "version": 3
   },
   "file_extension": ".py",
   "mimetype": "text/x-python",
   "name": "python",
   "nbconvert_exporter": "python",
   "pygments_lexer": "ipython3",
   "version": "3.10.15"
  }
 },
 "nbformat": 4,
 "nbformat_minor": 2
}
