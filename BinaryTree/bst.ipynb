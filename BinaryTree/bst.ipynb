{
 "cells": [
  {
   "cell_type": "code",
   "execution_count": 6,
   "metadata": {},
   "outputs": [],
   "source": [
    "class Node:\n",
    "    \n",
    "    def __init__(self, val):\n",
    "        self.val = val\n",
    "        self.left = None\n",
    "        self.right = None\n",
    "\n",
    "    @property\n",
    "    def right(self):\n",
    "        return self.right\n",
    "    \n",
    "    @right.setter\n",
    "    def right(self, right):\n",
    "        self.right = right\n",
    "    \n",
    "    @property\n",
    "    def left(self):\n",
    "        return self.left\n",
    "    \n",
    "    @left.setter\n",
    "    def left(self, left):\n",
    "        self.left = left\n",
    "    \n"
   ]
  },
  {
   "cell_type": "code",
   "execution_count": 7,
   "metadata": {},
   "outputs": [],
   "source": [
    "class BST():\n",
    "\n",
    "    def __init__(self, val):\n",
    "        self.root = Node(val)\n",
    "    \n",
    "    def preOrder(self):\n",
    "        self.preOrder_(self.root)\n",
    "    \n",
    "    def preOrder_(self, root):\n",
    "        if root is None:\n",
    "            return\n",
    "        print(f'{root.val} ->', end='')\n",
    "        self.preOrder_(root.left)\n",
    "        self.preorder_(root.right)\n",
    "\n",
    "\n",
    "    "
   ]
  }
 ],
 "metadata": {
  "kernelspec": {
   "display_name": "venv",
   "language": "python",
   "name": "python3"
  },
  "language_info": {
   "codemirror_mode": {
    "name": "ipython",
    "version": 3
   },
   "file_extension": ".py",
   "mimetype": "text/x-python",
   "name": "python",
   "nbconvert_exporter": "python",
   "pygments_lexer": "ipython3",
   "version": "3.10.15"
  }
 },
 "nbformat": 4,
 "nbformat_minor": 2
}
