{
 "cells": [
  {
   "cell_type": "code",
   "execution_count": 10,
   "metadata": {},
   "outputs": [],
   "source": [
    "class Node:\n",
    "    \n",
    "    def __init__(self, val):\n",
    "        self.val = val\n",
    "        self.left = None\n",
    "        self.right = None\n",
    "\n",
    "    @property\n",
    "    def right(self):\n",
    "        return self.right\n",
    "    \n",
    "    @right.setter\n",
    "    def right(self, right):\n",
    "        self.right = right\n",
    "    \n",
    "    @property\n",
    "    def left(self):\n",
    "        return self.left\n",
    "    \n",
    "    @left.setter\n",
    "    def left(self, left):\n",
    "        self.left = left\n",
    "    \n"
   ]
  },
  {
   "cell_type": "code",
   "execution_count": 11,
   "metadata": {},
   "outputs": [],
   "source": [
    "class BST():\n",
    "\n",
    "    def __init__(self, val):\n",
    "        self.root = Node(val)\n",
    "    \n",
    "    def preOrder(self):\n",
    "        self.preOrder_(self.root)\n",
    "    \n",
    "    def preOrder_(self, root):\n",
    "        if root is None:\n",
    "            return\n",
    "        print(f'{root.val} ->', end='')\n",
    "        self.preOrder_(root.left)\n",
    "        self.preorder_(root.right)\n",
    "    \n",
    "    def inOrder(self):\n",
    "        self.inOrder_(self.root)\n",
    "    \n",
    "    def inOrder_(self, root:Node):\n",
    "        if root is None:\n",
    "            return\n",
    "        \n",
    "        self.inOrder_(root.left)\n",
    "        print(root.val, end='->')\n",
    "        self.inOrder_(root.right)\n",
    "    \n",
    "    def postOrder(self):\n",
    "        self.postOrder_(self.root)\n",
    "    \n",
    "    def postOrder_(self, root:Node):\n",
    "        if root is None:\n",
    "            return\n",
    "        \n",
    "        self.postOrder_(root.left)\n",
    "        self.postOrder_(root.right)\n",
    "        print(root.val, end='->')\n",
    "        "
   ]
  }
 ],
 "metadata": {
  "kernelspec": {
   "display_name": "venv",
   "language": "python",
   "name": "python3"
  },
  "language_info": {
   "codemirror_mode": {
    "name": "ipython",
    "version": 3
   },
   "file_extension": ".py",
   "mimetype": "text/x-python",
   "name": "python",
   "nbconvert_exporter": "python",
   "pygments_lexer": "ipython3",
   "version": "3.10.15"
  }
 },
 "nbformat": 4,
 "nbformat_minor": 2
}
