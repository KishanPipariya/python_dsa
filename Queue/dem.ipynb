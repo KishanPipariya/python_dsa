{
 "cells": [
  {
   "cell_type": "code",
   "execution_count": 3,
   "metadata": {},
   "outputs": [],
   "source": [
    "class Queue:\n",
    "\n",
    "    def __init__(self):\n",
    "        self.front = 0\n",
    "        self.rear = 0\n",
    "        self.length = 0\n",
    "        self.vals = []\n",
    "\n",
    "    def enQueue(self, val):\n",
    "        self.vals.append(val)\n",
    "        self.length += 1\n",
    "    \n",
    "    def deQueue(self):\n",
    "        self.vals = self.vals[1:]\n",
    "        self.length -= 1\n",
    "    \n",
    "    def __str__(self):\n",
    "        l = [str(i) for i in self.vals]\n",
    "        return \" \".join(l)\n",
    "    \n",
    "    def __len__(self):\n",
    "        return self.length\n",
    "    \n"
   ]
  },
  {
   "cell_type": "code",
   "execution_count": 4,
   "metadata": {},
   "outputs": [
    {
     "name": "stdout",
     "output_type": "stream",
     "text": [
      "1 2 3\n"
     ]
    }
   ],
   "source": [
    "q = Queue()\n",
    "q.enQueue(1)\n",
    "q.enQueue(2)\n",
    "q.enQueue(3)\n",
    "print(q)"
   ]
  },
  {
   "cell_type": "code",
   "execution_count": 5,
   "metadata": {},
   "outputs": [
    {
     "name": "stdout",
     "output_type": "stream",
     "text": [
      "2 3\n"
     ]
    }
   ],
   "source": [
    "q.deQueue()\n",
    "print(q)"
   ]
  }
 ],
 "metadata": {
  "kernelspec": {
   "display_name": "venv",
   "language": "python",
   "name": "python3"
  },
  "language_info": {
   "codemirror_mode": {
    "name": "ipython",
    "version": 3
   },
   "file_extension": ".py",
   "mimetype": "text/x-python",
   "name": "python",
   "nbconvert_exporter": "python",
   "pygments_lexer": "ipython3",
   "version": "3.10.15"
  }
 },
 "nbformat": 4,
 "nbformat_minor": 2
}
